{
  "nbformat": 4,
  "nbformat_minor": 0,
  "metadata": {
    "colab": {
      "name": "SPAM MAILS.ipynb",
      "provenance": [],
      "collapsed_sections": [],
      "mount_file_id": "18PUugdhomiuEAPZ-cwLsVLO0_v7cWURI",
      "authorship_tag": "ABX9TyNQxdQq7g6ptwyRfWt+ci6b",
      "include_colab_link": true
    },
    "kernelspec": {
      "name": "python3",
      "display_name": "Python 3"
    }
  },
  "cells": [
    {
      "cell_type": "markdown",
      "metadata": {
        "id": "view-in-github",
        "colab_type": "text"
      },
      "source": [
        "<a href=\"https://colab.research.google.com/github/gpriya32/NLP/blob/master/SPAM_MAILS.ipynb\" target=\"_parent\"><img src=\"https://colab.research.google.com/assets/colab-badge.svg\" alt=\"Open In Colab\"/></a>"
      ]
    },
    {
      "cell_type": "markdown",
      "metadata": {
        "id": "EK37CqMhJz0N",
        "colab_type": "text"
      },
      "source": [
        "# Lets begin()"
      ]
    },
    {
      "cell_type": "code",
      "metadata": {
        "id": "bc6DhMmkJ4Yk",
        "colab_type": "code",
        "colab": {}
      },
      "source": [
        "import pandas as pd\n",
        "import numpy as np\n",
        "import matplotlib.pyplot as plt\n",
        "import tensorflow as tf\n",
        "import matplotlib.pyplot as plt\n"
      ],
      "execution_count": 2,
      "outputs": []
    },
    {
      "cell_type": "code",
      "metadata": {
        "id": "0LFJ0-CWLYa2",
        "colab_type": "code",
        "colab": {
          "base_uri": "https://localhost:8080/",
          "height": 424
        },
        "outputId": "89b9e11c-4ee1-4117-d44f-ece4936e0efb"
      },
      "source": [
        "df=pd.read_csv('/content/drive/My Drive/DATASETS/emails.csv')\n",
        "df"
      ],
      "execution_count": 3,
      "outputs": [
        {
          "output_type": "execute_result",
          "data": {
            "text/html": [
              "<div>\n",
              "<style scoped>\n",
              "    .dataframe tbody tr th:only-of-type {\n",
              "        vertical-align: middle;\n",
              "    }\n",
              "\n",
              "    .dataframe tbody tr th {\n",
              "        vertical-align: top;\n",
              "    }\n",
              "\n",
              "    .dataframe thead th {\n",
              "        text-align: right;\n",
              "    }\n",
              "</style>\n",
              "<table border=\"1\" class=\"dataframe\">\n",
              "  <thead>\n",
              "    <tr style=\"text-align: right;\">\n",
              "      <th></th>\n",
              "      <th>text</th>\n",
              "      <th>spam</th>\n",
              "    </tr>\n",
              "  </thead>\n",
              "  <tbody>\n",
              "    <tr>\n",
              "      <th>0</th>\n",
              "      <td>Subject: naturally irresistible your corporate...</td>\n",
              "      <td>1</td>\n",
              "    </tr>\n",
              "    <tr>\n",
              "      <th>1</th>\n",
              "      <td>Subject: the stock trading gunslinger  fanny i...</td>\n",
              "      <td>1</td>\n",
              "    </tr>\n",
              "    <tr>\n",
              "      <th>2</th>\n",
              "      <td>Subject: unbelievable new homes made easy  im ...</td>\n",
              "      <td>1</td>\n",
              "    </tr>\n",
              "    <tr>\n",
              "      <th>3</th>\n",
              "      <td>Subject: 4 color printing special  request add...</td>\n",
              "      <td>1</td>\n",
              "    </tr>\n",
              "    <tr>\n",
              "      <th>4</th>\n",
              "      <td>Subject: do not have money , get software cds ...</td>\n",
              "      <td>1</td>\n",
              "    </tr>\n",
              "    <tr>\n",
              "      <th>...</th>\n",
              "      <td>...</td>\n",
              "      <td>...</td>\n",
              "    </tr>\n",
              "    <tr>\n",
              "      <th>5723</th>\n",
              "      <td>Subject: re : research and development charges...</td>\n",
              "      <td>0</td>\n",
              "    </tr>\n",
              "    <tr>\n",
              "      <th>5724</th>\n",
              "      <td>Subject: re : receipts from visit  jim ,  than...</td>\n",
              "      <td>0</td>\n",
              "    </tr>\n",
              "    <tr>\n",
              "      <th>5725</th>\n",
              "      <td>Subject: re : enron case study update  wow ! a...</td>\n",
              "      <td>0</td>\n",
              "    </tr>\n",
              "    <tr>\n",
              "      <th>5726</th>\n",
              "      <td>Subject: re : interest  david ,  please , call...</td>\n",
              "      <td>0</td>\n",
              "    </tr>\n",
              "    <tr>\n",
              "      <th>5727</th>\n",
              "      <td>Subject: news : aurora 5 . 2 update  aurora ve...</td>\n",
              "      <td>0</td>\n",
              "    </tr>\n",
              "  </tbody>\n",
              "</table>\n",
              "<p>5728 rows × 2 columns</p>\n",
              "</div>"
            ],
            "text/plain": [
              "                                                   text  spam\n",
              "0     Subject: naturally irresistible your corporate...     1\n",
              "1     Subject: the stock trading gunslinger  fanny i...     1\n",
              "2     Subject: unbelievable new homes made easy  im ...     1\n",
              "3     Subject: 4 color printing special  request add...     1\n",
              "4     Subject: do not have money , get software cds ...     1\n",
              "...                                                 ...   ...\n",
              "5723  Subject: re : research and development charges...     0\n",
              "5724  Subject: re : receipts from visit  jim ,  than...     0\n",
              "5725  Subject: re : enron case study update  wow ! a...     0\n",
              "5726  Subject: re : interest  david ,  please , call...     0\n",
              "5727  Subject: news : aurora 5 . 2 update  aurora ve...     0\n",
              "\n",
              "[5728 rows x 2 columns]"
            ]
          },
          "metadata": {
            "tags": []
          },
          "execution_count": 3
        }
      ]
    },
    {
      "cell_type": "code",
      "metadata": {
        "id": "myIkBsHCUGHi",
        "colab_type": "code",
        "colab": {
          "base_uri": "https://localhost:8080/",
          "height": 424
        },
        "outputId": "f28ecbd3-a156-4b50-e5d5-08c623e2f9a2"
      },
      "source": [
        "df[df['spam']==0]"
      ],
      "execution_count": 4,
      "outputs": [
        {
          "output_type": "execute_result",
          "data": {
            "text/html": [
              "<div>\n",
              "<style scoped>\n",
              "    .dataframe tbody tr th:only-of-type {\n",
              "        vertical-align: middle;\n",
              "    }\n",
              "\n",
              "    .dataframe tbody tr th {\n",
              "        vertical-align: top;\n",
              "    }\n",
              "\n",
              "    .dataframe thead th {\n",
              "        text-align: right;\n",
              "    }\n",
              "</style>\n",
              "<table border=\"1\" class=\"dataframe\">\n",
              "  <thead>\n",
              "    <tr style=\"text-align: right;\">\n",
              "      <th></th>\n",
              "      <th>text</th>\n",
              "      <th>spam</th>\n",
              "    </tr>\n",
              "  </thead>\n",
              "  <tbody>\n",
              "    <tr>\n",
              "      <th>1368</th>\n",
              "      <td>Subject: hello guys ,  i ' m \" bugging you \" f...</td>\n",
              "      <td>0</td>\n",
              "    </tr>\n",
              "    <tr>\n",
              "      <th>1369</th>\n",
              "      <td>Subject: sacramento weather station  fyi  - - ...</td>\n",
              "      <td>0</td>\n",
              "    </tr>\n",
              "    <tr>\n",
              "      <th>1370</th>\n",
              "      <td>Subject: from the enron india newsdesk - jan 1...</td>\n",
              "      <td>0</td>\n",
              "    </tr>\n",
              "    <tr>\n",
              "      <th>1371</th>\n",
              "      <td>Subject: re : powerisk 2001 - your invitation ...</td>\n",
              "      <td>0</td>\n",
              "    </tr>\n",
              "    <tr>\n",
              "      <th>1372</th>\n",
              "      <td>Subject: re : resco database and customer capt...</td>\n",
              "      <td>0</td>\n",
              "    </tr>\n",
              "    <tr>\n",
              "      <th>...</th>\n",
              "      <td>...</td>\n",
              "      <td>...</td>\n",
              "    </tr>\n",
              "    <tr>\n",
              "      <th>5723</th>\n",
              "      <td>Subject: re : research and development charges...</td>\n",
              "      <td>0</td>\n",
              "    </tr>\n",
              "    <tr>\n",
              "      <th>5724</th>\n",
              "      <td>Subject: re : receipts from visit  jim ,  than...</td>\n",
              "      <td>0</td>\n",
              "    </tr>\n",
              "    <tr>\n",
              "      <th>5725</th>\n",
              "      <td>Subject: re : enron case study update  wow ! a...</td>\n",
              "      <td>0</td>\n",
              "    </tr>\n",
              "    <tr>\n",
              "      <th>5726</th>\n",
              "      <td>Subject: re : interest  david ,  please , call...</td>\n",
              "      <td>0</td>\n",
              "    </tr>\n",
              "    <tr>\n",
              "      <th>5727</th>\n",
              "      <td>Subject: news : aurora 5 . 2 update  aurora ve...</td>\n",
              "      <td>0</td>\n",
              "    </tr>\n",
              "  </tbody>\n",
              "</table>\n",
              "<p>4360 rows × 2 columns</p>\n",
              "</div>"
            ],
            "text/plain": [
              "                                                   text  spam\n",
              "1368  Subject: hello guys ,  i ' m \" bugging you \" f...     0\n",
              "1369  Subject: sacramento weather station  fyi  - - ...     0\n",
              "1370  Subject: from the enron india newsdesk - jan 1...     0\n",
              "1371  Subject: re : powerisk 2001 - your invitation ...     0\n",
              "1372  Subject: re : resco database and customer capt...     0\n",
              "...                                                 ...   ...\n",
              "5723  Subject: re : research and development charges...     0\n",
              "5724  Subject: re : receipts from visit  jim ,  than...     0\n",
              "5725  Subject: re : enron case study update  wow ! a...     0\n",
              "5726  Subject: re : interest  david ,  please , call...     0\n",
              "5727  Subject: news : aurora 5 . 2 update  aurora ve...     0\n",
              "\n",
              "[4360 rows x 2 columns]"
            ]
          },
          "metadata": {
            "tags": []
          },
          "execution_count": 4
        }
      ]
    },
    {
      "cell_type": "code",
      "metadata": {
        "id": "etM0HmPOJMBl",
        "colab_type": "code",
        "colab": {
          "base_uri": "https://localhost:8080/",
          "height": 72
        },
        "outputId": "7e433c51-5d33-4540-ec84-df625090e001"
      },
      "source": [
        "df.iloc[1200][0]"
      ],
      "execution_count": 5,
      "outputs": [
        {
          "output_type": "execute_result",
          "data": {
            "application/vnd.google.colaboratory.intrinsic": {
              "type": "string"
            },
            "text/plain": [
              "\"Subject: unbelievable new homes for the usa !  it ' s a beautiful day today  homeowner  you have been pre - approved for a $ 431 , 221 home loan at a 3 . 29 fixed rate .  this offer is being extended to you unconditionally and your credit is in no way a factor .  to take advantage of this limited time opportunity  all we ask is that you visit our website and complete  the 1 minute post approval form  have a good day ,  shemika kelly\""
            ]
          },
          "metadata": {
            "tags": []
          },
          "execution_count": 5
        }
      ]
    },
    {
      "cell_type": "code",
      "metadata": {
        "id": "SFmjb-5OCFKs",
        "colab_type": "code",
        "colab": {
          "base_uri": "https://localhost:8080/",
          "height": 109
        },
        "outputId": "21aa4b9d-2484-43c1-9f35-8706a0b1fb8d"
      },
      "source": [
        "df.iloc[1386][0]"
      ],
      "execution_count": 6,
      "outputs": [
        {
          "output_type": "execute_result",
          "data": {
            "application/vnd.google.colaboratory.intrinsic": {
              "type": "string"
            },
            "text/plain": [
              "'Subject: it purchasing process  as you all may be aware the it organization is undergoing significant  organizational changes at a very rapid pace . one of the groups that is being  heavily affected is purchasing , due to the large increase in the volume of  requests and some staff turnover . we realize that this is causing our users  some pain and we are re - engineering the process as quickly as possible . we  will be communicating the changes to the process over the next few weeks . we  apologize for the inconvenience and appreciate your patience in this regard .  if you have any questions while the process is being adjusted please contact  bob hillier at extension 3 - 0305 .  philippe bibi  cto , enron global technology'"
            ]
          },
          "metadata": {
            "tags": []
          },
          "execution_count": 6
        }
      ]
    },
    {
      "cell_type": "code",
      "metadata": {
        "id": "EPYlWYHBCrkV",
        "colab_type": "code",
        "colab": {
          "base_uri": "https://localhost:8080/",
          "height": 53
        },
        "outputId": "358b19a3-3b33-4844-c524-a3a4b68952de"
      },
      "source": [
        "\n",
        "# library to clean data \n",
        "import re  \n",
        "import nltk  \n",
        "nltk.download('stopwords') \n",
        "from nltk.corpus import stopwords \n",
        "  "
      ],
      "execution_count": 7,
      "outputs": [
        {
          "output_type": "stream",
          "text": [
            "[nltk_data] Downloading package stopwords to /root/nltk_data...\n",
            "[nltk_data]   Package stopwords is already up-to-date!\n"
          ],
          "name": "stdout"
        }
      ]
    },
    {
      "cell_type": "code",
      "metadata": {
        "id": "6Gdm_9zpH5hg",
        "colab_type": "code",
        "colab": {}
      },
      "source": [
        "# Stemming\n",
        "from nltk.stem.porter import PorterStemmer \n",
        "corpus = []  \n",
        "  "
      ],
      "execution_count": 8,
      "outputs": []
    },
    {
      "cell_type": "code",
      "metadata": {
        "id": "BIcO8jthEclv",
        "colab_type": "code",
        "colab": {}
      },
      "source": [
        "for i in range(0, 2000):  \n",
        "      \n",
        "    review = re.sub(r'\\b[\\w\\-.]+?@\\w+?\\.\\w{2,4}\\b', 'emailaddr', df['text'][i])\n",
        "    review  = re.sub(r'(http[s]?\\S+)|(\\w+\\.[A-Za-z]{2,4}\\S*)', 'httpaddr',\n",
        "                     review)\n",
        "    review  = re.sub(r'£|\\$', 'moneysymb', review)\n",
        "    review = re.sub(\n",
        "        r'\\b(\\+\\d{1,2}\\s)?\\d?[\\-(.]?\\d{3}\\)?[\\s.-]?\\d{3}[\\s.-]?\\d{4}\\b',\n",
        "        'phonenumbr', review)\n",
        "    review  = re.sub(r'\\d+(\\.\\d+)?', 'numbr', review)\n",
        "\n",
        "    # collapse whitespace (spaces, line breaks, tabs) into a single space.\n",
        "    # eliminate any leading or trailing whitespace.\n",
        "    review  = re.sub(r'[^\\w\\d\\s]', ' ', review)\n",
        "    review = re.sub(r'\\s+', ' ', review)\n",
        "    review = re.sub(r'^\\s+|\\s+?$', '', review)\n",
        "\n",
        "    review = review.lower()  \n",
        "    review = review.split()  \n",
        "    ps = PorterStemmer()   \n",
        "    review = [ps.stem(word) for word in review \n",
        "                if not word in set(stopwords.words('english'))]  \n",
        "    review = ' '.join(review)   \n",
        "    corpus.append(review)  "
      ],
      "execution_count": 9,
      "outputs": []
    },
    {
      "cell_type": "code",
      "metadata": {
        "id": "86qd52YsH9q_",
        "colab_type": "code",
        "colab": {}
      },
      "source": [
        "for i in range(2000, 5728):  \n",
        "      \n",
        "    review = re.sub(r'\\b[\\w\\-.]+?@\\w+?\\.\\w{2,4}\\b', 'emailaddr', df['text'][i])\n",
        "    review  = re.sub(r'(http[s]?\\S+)|(\\w+\\.[A-Za-z]{2,4}\\S*)', 'httpaddr',\n",
        "                     review)\n",
        "    review  = re.sub(r'£|\\$', 'moneysymb', review)\n",
        "    review = re.sub(\n",
        "        r'\\b(\\+\\d{1,2}\\s)?\\d?[\\-(.]?\\d{3}\\)?[\\s.-]?\\d{3}[\\s.-]?\\d{4}\\b',\n",
        "        'phonenumbr', review)\n",
        "    review  = re.sub(r'\\d+(\\.\\d+)?', 'numbr', review)\n",
        "    review  = re.sub(r'[^\\w\\d\\s]', ' ', review)\n",
        "    review = re.sub(r'\\s+', ' ', review)\n",
        "    review = re.sub(r'^\\s+|\\s+?$', '', review)\n",
        "\n",
        "    review = review.lower()  \n",
        "    review = review.split()  \n",
        "    ps = PorterStemmer()   \n",
        "    review = [ps.stem(word) for word in review \n",
        "                if not word in set(stopwords.words('english'))]  \n",
        "    review = ' '.join(review)   \n",
        "    corpus.append(review)  "
      ],
      "execution_count": 10,
      "outputs": []
    },
    {
      "cell_type": "code",
      "metadata": {
        "id": "INaDWbhHR6q3",
        "colab_type": "code",
        "colab": {
          "base_uri": "https://localhost:8080/",
          "height": 35
        },
        "outputId": "18ceba4b-3bb2-445b-8ae8-1a74ed2ca745"
      },
      "source": [
        "from sklearn.feature_extraction.text import CountVectorizer\n",
        "# to create bag of words model\n",
        "vect=CountVectorizer(max_features=25000)\n",
        "X=vect.fit_transform(corpus).toarray()\n",
        "X.shape"
      ],
      "execution_count": 11,
      "outputs": [
        {
          "output_type": "execute_result",
          "data": {
            "text/plain": [
              "(5728, 25000)"
            ]
          },
          "metadata": {
            "tags": []
          },
          "execution_count": 11
        }
      ]
    },
    {
      "cell_type": "code",
      "metadata": {
        "id": "vqLsd6ongYgN",
        "colab_type": "code",
        "colab": {
          "base_uri": "https://localhost:8080/",
          "height": 144
        },
        "outputId": "217ce3e8-442a-45ec-b340-d92cc19d65fc"
      },
      "source": [
        "X"
      ],
      "execution_count": 12,
      "outputs": [
        {
          "output_type": "execute_result",
          "data": {
            "text/plain": [
              "array([[0, 0, 0, ..., 0, 0, 0],\n",
              "       [0, 0, 0, ..., 0, 0, 0],\n",
              "       [0, 0, 0, ..., 0, 0, 0],\n",
              "       ...,\n",
              "       [0, 0, 0, ..., 0, 0, 0],\n",
              "       [0, 0, 0, ..., 0, 0, 0],\n",
              "       [0, 0, 0, ..., 0, 0, 0]])"
            ]
          },
          "metadata": {
            "tags": []
          },
          "execution_count": 12
        }
      ]
    },
    {
      "cell_type": "code",
      "metadata": {
        "id": "6WA3iMfNRbp0",
        "colab_type": "code",
        "colab": {
          "base_uri": "https://localhost:8080/",
          "height": 35
        },
        "outputId": "4f837888-df99-4909-9fd9-cb436a25c9e5"
      },
      "source": [
        "y=df.iloc[:,1].values\n",
        "y"
      ],
      "execution_count": 13,
      "outputs": [
        {
          "output_type": "execute_result",
          "data": {
            "text/plain": [
              "array([1, 1, 1, ..., 0, 0, 0])"
            ]
          },
          "metadata": {
            "tags": []
          },
          "execution_count": 13
        }
      ]
    },
    {
      "cell_type": "code",
      "metadata": {
        "id": "gH1ZXiI0UGsl",
        "colab_type": "code",
        "colab": {}
      },
      "source": [
        "from sklearn.model_selection import train_test_split\n",
        "X_train, X_test, y_train, y_test = train_test_split(X,y,test_size=0.2)\n"
      ],
      "execution_count": 14,
      "outputs": []
    },
    {
      "cell_type": "code",
      "metadata": {
        "id": "IdzeROx2foGw",
        "colab_type": "code",
        "colab": {
          "base_uri": "https://localhost:8080/",
          "height": 35
        },
        "outputId": "bbe10a0f-a72a-459c-cee3-b776a7708e3b"
      },
      "source": [
        "X_train.shape"
      ],
      "execution_count": 15,
      "outputs": [
        {
          "output_type": "execute_result",
          "data": {
            "text/plain": [
              "(4582, 25000)"
            ]
          },
          "metadata": {
            "tags": []
          },
          "execution_count": 15
        }
      ]
    },
    {
      "cell_type": "code",
      "metadata": {
        "id": "EcbsrNdXfq1L",
        "colab_type": "code",
        "colab": {}
      },
      "source": [
        "ann = tf.keras.models.Sequential()\n",
        "\n",
        "# Adding the input layer and the first hidden layer\n",
        "ann.add(tf.keras.layers.Dense(units=10000, kernel_initializer='normal',activation='relu',input_dim=25000))\n",
        "\n",
        "# Adding the second hidden layer\n",
        "ann.add(tf.keras.layers.Dense(units=5000,kernel_initializer='normal', activation='relu'))\n",
        "\n",
        "# Adding the second hidden layer\n",
        "ann.add(tf.keras.layers.Dense(units=1000,kernel_initializer='normal', activation='relu'))\n",
        "\n",
        "# Adding the output layer\n",
        "ann.add(tf.keras.layers.Dense(units=1, kernel_initializer='normal',activation='sigmoid'))"
      ],
      "execution_count": 16,
      "outputs": []
    },
    {
      "cell_type": "code",
      "metadata": {
        "id": "Q6wcWFuNgzYU",
        "colab_type": "code",
        "colab": {}
      },
      "source": [
        "ann.compile(optimizer = 'adam', loss = 'binary_crossentropy', metrics = ['accuracy'])"
      ],
      "execution_count": 17,
      "outputs": []
    },
    {
      "cell_type": "code",
      "metadata": {
        "id": "ks2KB-eOhPSL",
        "colab_type": "code",
        "colab": {
          "base_uri": "https://localhost:8080/",
          "height": 308
        },
        "outputId": "06714020-a765-4e42-e064-f6c2b2a434d1"
      },
      "source": [
        "ann.summary()"
      ],
      "execution_count": 19,
      "outputs": [
        {
          "output_type": "stream",
          "text": [
            "Model: \"sequential\"\n",
            "_________________________________________________________________\n",
            "Layer (type)                 Output Shape              Param #   \n",
            "=================================================================\n",
            "dense (Dense)                (None, 10000)             250010000 \n",
            "_________________________________________________________________\n",
            "dense_1 (Dense)              (None, 5000)              50005000  \n",
            "_________________________________________________________________\n",
            "dense_2 (Dense)              (None, 1000)              5001000   \n",
            "_________________________________________________________________\n",
            "dense_3 (Dense)              (None, 1)                 1001      \n",
            "=================================================================\n",
            "Total params: 305,017,001\n",
            "Trainable params: 305,017,001\n",
            "Non-trainable params: 0\n",
            "_________________________________________________________________\n"
          ],
          "name": "stdout"
        }
      ]
    },
    {
      "cell_type": "code",
      "metadata": {
        "id": "tC6zJ-GAhVIA",
        "colab_type": "code",
        "colab": {
          "base_uri": "https://localhost:8080/",
          "height": 745
        },
        "outputId": "5a76a1d8-b1e3-4b60-b264-fc51454c10e3"
      },
      "source": [
        "hist=ann.fit(X_train, y_train,validation_split=0.15, batch_size = 300, epochs = 20)\n"
      ],
      "execution_count": 18,
      "outputs": [
        {
          "output_type": "stream",
          "text": [
            "Epoch 1/20\n",
            "13/13 [==============================] - 115s 9s/step - loss: 26.2132 - accuracy: 0.7062 - val_loss: 7.6305 - val_accuracy: 0.7703\n",
            "Epoch 2/20\n",
            "13/13 [==============================] - 115s 9s/step - loss: 1.5761 - accuracy: 0.8960 - val_loss: 1.0361 - val_accuracy: 0.8852\n",
            "Epoch 3/20\n",
            "13/13 [==============================] - 111s 9s/step - loss: 0.2597 - accuracy: 0.9612 - val_loss: 0.1241 - val_accuracy: 0.9884\n",
            "Epoch 4/20\n",
            "13/13 [==============================] - 114s 9s/step - loss: 0.0408 - accuracy: 0.9964 - val_loss: 0.0355 - val_accuracy: 0.9927\n",
            "Epoch 5/20\n",
            "13/13 [==============================] - 109s 8s/step - loss: 0.0019 - accuracy: 0.9995 - val_loss: 0.0768 - val_accuracy: 0.9884\n",
            "Epoch 6/20\n",
            "13/13 [==============================] - 113s 9s/step - loss: 0.0011 - accuracy: 0.9997 - val_loss: 0.0667 - val_accuracy: 0.9898\n",
            "Epoch 7/20\n",
            "13/13 [==============================] - 115s 9s/step - loss: 4.1196e-04 - accuracy: 1.0000 - val_loss: 0.0591 - val_accuracy: 0.9913\n",
            "Epoch 8/20\n",
            "13/13 [==============================] - 112s 9s/step - loss: 3.2837e-04 - accuracy: 1.0000 - val_loss: 0.0556 - val_accuracy: 0.9913\n",
            "Epoch 9/20\n",
            "13/13 [==============================] - 111s 9s/step - loss: 2.8781e-04 - accuracy: 1.0000 - val_loss: 0.0533 - val_accuracy: 0.9913\n",
            "Epoch 10/20\n",
            "13/13 [==============================] - 110s 8s/step - loss: 2.4199e-04 - accuracy: 1.0000 - val_loss: 0.0518 - val_accuracy: 0.9913\n",
            "Epoch 11/20\n",
            "13/13 [==============================] - 110s 8s/step - loss: 2.0932e-04 - accuracy: 1.0000 - val_loss: 0.0495 - val_accuracy: 0.9913\n",
            "Epoch 12/20\n",
            "13/13 [==============================] - 111s 9s/step - loss: 1.8521e-04 - accuracy: 1.0000 - val_loss: 0.0478 - val_accuracy: 0.9913\n",
            "Epoch 13/20\n",
            "13/13 [==============================] - 109s 8s/step - loss: 1.6753e-04 - accuracy: 1.0000 - val_loss: 0.0466 - val_accuracy: 0.9913\n",
            "Epoch 14/20\n",
            "13/13 [==============================] - 110s 8s/step - loss: 1.5248e-04 - accuracy: 1.0000 - val_loss: 0.0457 - val_accuracy: 0.9927\n",
            "Epoch 15/20\n",
            "13/13 [==============================] - 111s 9s/step - loss: 1.3965e-04 - accuracy: 1.0000 - val_loss: 0.0453 - val_accuracy: 0.9927\n",
            "Epoch 16/20\n",
            "13/13 [==============================] - 110s 8s/step - loss: 1.2602e-04 - accuracy: 1.0000 - val_loss: 0.0449 - val_accuracy: 0.9927\n",
            "Epoch 17/20\n",
            "13/13 [==============================] - 113s 9s/step - loss: 1.1595e-04 - accuracy: 1.0000 - val_loss: 0.0445 - val_accuracy: 0.9927\n",
            "Epoch 18/20\n",
            "13/13 [==============================] - 110s 8s/step - loss: 1.0677e-04 - accuracy: 1.0000 - val_loss: 0.0443 - val_accuracy: 0.9927\n",
            "Epoch 19/20\n",
            "13/13 [==============================] - 111s 9s/step - loss: 9.9144e-05 - accuracy: 1.0000 - val_loss: 0.0438 - val_accuracy: 0.9927\n",
            "Epoch 20/20\n",
            "13/13 [==============================] - 111s 9s/step - loss: 9.2647e-05 - accuracy: 1.0000 - val_loss: 0.0436 - val_accuracy: 0.9927\n"
          ],
          "name": "stdout"
        }
      ]
    },
    {
      "cell_type": "code",
      "metadata": {
        "id": "fxTyG1t4hoCb",
        "colab_type": "code",
        "colab": {
          "base_uri": "https://localhost:8080/",
          "height": 144
        },
        "outputId": "17b471df-f424-4a0e-b3e6-29abf2ff543c"
      },
      "source": [
        "y_pred=ann.predict(X_test)\n",
        "y_pred"
      ],
      "execution_count": 22,
      "outputs": [
        {
          "output_type": "execute_result",
          "data": {
            "text/plain": [
              "array([[3.9001726e-27],\n",
              "       [9.6846181e-37],\n",
              "       [1.0000000e+00],\n",
              "       ...,\n",
              "       [0.0000000e+00],\n",
              "       [0.0000000e+00],\n",
              "       [2.1984403e-34]], dtype=float32)"
            ]
          },
          "metadata": {
            "tags": []
          },
          "execution_count": 22
        }
      ]
    },
    {
      "cell_type": "code",
      "metadata": {
        "id": "yGIKZvMGlRxR",
        "colab_type": "code",
        "colab": {
          "base_uri": "https://localhost:8080/",
          "height": 199
        },
        "outputId": "645114e9-67e7-4dce-9813-4197ef7974b9"
      },
      "source": [
        "y_pred = (y_pred > 0.5)\n",
        "print(np.concatenate((y_pred.reshape(len(y_pred),1), y_test.reshape(len(y_test),1)),1))\n",
        "from sklearn.metrics import confusion_matrix, accuracy_score\n",
        "cm = confusion_matrix(y_test, y_pred)\n",
        "print(cm)\n",
        "accuracy_score(y_test, y_pred)"
      ],
      "execution_count": 24,
      "outputs": [
        {
          "output_type": "stream",
          "text": [
            "[[0 0]\n",
            " [0 0]\n",
            " [1 1]\n",
            " ...\n",
            " [0 0]\n",
            " [0 0]\n",
            " [0 0]]\n",
            "[[889   1]\n",
            " [ 12 244]]\n"
          ],
          "name": "stdout"
        },
        {
          "output_type": "execute_result",
          "data": {
            "text/plain": [
              "0.9886561954624782"
            ]
          },
          "metadata": {
            "tags": []
          },
          "execution_count": 24
        }
      ]
    },
    {
      "cell_type": "code",
      "metadata": {
        "id": "_0408Y5wluaF",
        "colab_type": "code",
        "colab": {
          "base_uri": "https://localhost:8080/",
          "height": 295
        },
        "outputId": "856f92a7-a2df-4a96-8141-3ec81ccb38d0"
      },
      "source": [
        "plt.plot(hist.history['loss'])\n",
        "plt.plot(hist.history['val_loss'])\n",
        "plt.title('Model loss')\n",
        "plt.ylabel('Loss')\n",
        "plt.xlabel('Epoch')\n",
        "plt.legend(['Train', 'Val'], loc='upper right')\n",
        "plt.show()"
      ],
      "execution_count": 25,
      "outputs": [
        {
          "output_type": "display_data",
          "data": {
            "image/png": "[encoded data removed]",
            "text/plain": [
              "<Figure size 432x288 with 1 Axes>"
            ]
          },
          "metadata": {
            "tags": [],
            "needs_background": "light"
          }
        }
      ]
    },
    {
      "cell_type": "code",
      "metadata": {
        "id": "EwI6gbK69igM",
        "colab_type": "code",
        "colab": {}
      },
      "source": [
        ""
      ],
      "execution_count": null,
      "outputs": []
    }
  ]
}